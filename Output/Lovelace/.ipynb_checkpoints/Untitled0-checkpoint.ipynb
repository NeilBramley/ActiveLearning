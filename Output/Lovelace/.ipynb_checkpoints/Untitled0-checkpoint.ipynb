{
 "metadata": {
  "name": "",
  "signature": "sha256:0d193c21c694751438db79ca4621a1cb43befa35eede6f51f3d9d860b67b0f01"
 },
 "nbformat": 3,
 "nbformat_minor": 0,
 "worksheets": [
  {
   "cells": [
    {
     "cell_type": "code",
     "collapsed": false,
     "input": [
      "\n",
      "import matplotlib.pyplot as plt\n",
      "import numpy as np\n",
      "\n",
      "data_directory='/Users/alejo/Neuro/ActiveLearning/Output/Lovelace/'\n",
      "\n",
      "filename_theory='out-HIGH-theory-10_tru-1_real.txt'\n",
      "filename_random='out-HIGH-random-10_tru-5_real.txt'\n",
      "filename_kids='out-kids-10_tru-1_real.txt'\n",
      "theory_data=np.loadtxt(data_directory+filename_theory)\n",
      "random_data=np.loadtxt(data_directory+filename_random)\n",
      "kids_data=np.loadtxt(data_directory+filename_kids)\n",
      "\n",
      "filename_theory='all-HIGH-theory-10_tru-1_real.txt'\n",
      "filename_random='all-HIGH-random-10_tru-5_real.txt'\n",
      "all_theory_data=np.loadtxt(data_directory+filename_theory)\n",
      "all_random_data=np.loadtxt(data_directory+filename_random)\n",
      "\n"
     ],
     "language": "python",
     "metadata": {},
     "outputs": [],
     "prompt_number": 15
    },
    {
     "cell_type": "code",
     "collapsed": false,
     "input": [
      "for i in range(len(theory_data)):\n",
      "    print all_theory_data[i], theory_data[i]"
     ],
     "language": "python",
     "metadata": {},
     "outputs": [
      {
       "output_type": "stream",
       "stream": "stdout",
       "text": [
        "-0.42383072636 -0.42383072636\n",
        "-0.338312016549 -0.338312016549\n",
        "-0.329817309671 -0.329817309671\n",
        "-0.338312016549 -0.338312016549\n",
        "-0.329817309671 -0.329817309671\n",
        "-0.329817309671 -0.329817309671\n",
        "-0.329817309671 -0.329817309671\n",
        "-0.338312016549 -0.338312016549\n",
        "-0.329817309671 -0.329817309671\n",
        "-0.338312016549 -0.338312016549\n",
        "-0.366464589187 -0.366464589187\n",
        "-0.329817309671 -0.329817309671\n",
        "-0.338312016549 -0.338312016549\n",
        "-0.329817309671 -0.329817309671\n",
        "-0.329817309671 -0.329817309671\n",
        "-0.338312016549 -0.338312016549\n",
        "-0.338312016549 -0.338312016549\n",
        "-0.329817309671 -0.329817309671\n",
        "-0.338312016549 -0.338312016549\n",
        "-0.329817309671 -0.329817309671\n",
        "-0.329817309671 -0.329817309671\n",
        "-0.329817309671 -0.329817309671\n",
        "-0.338312016549 -0.338312016549\n",
        "-0.338312016549 -0.338312016549\n",
        "-0.338312016549 -0.338312016549\n",
        "-0.329817309671 -0.329817309671\n",
        "-0.329817309671 -0.329817309671\n",
        "-0.508668336749 -0.508668336749\n",
        "-0.61320288631 -0.61320288631\n"
       ]
      }
     ],
     "prompt_number": 18
    },
    {
     "cell_type": "code",
     "collapsed": false,
     "input": [
      "for i in range(len(random_data)):\n",
      "    print all_random_data[i], random_data[i]\n"
     ],
     "language": "python",
     "metadata": {},
     "outputs": [
      {
       "output_type": "stream",
       "stream": "stdout",
       "text": [
        "[-0.30391434 -0.28944359 -0.33011481 -0.2910203  -0.29277842] -0.301454289125\n",
        "[-0.23242394 -0.28552368 -0.17861463 -0.21998615 -0.14557074] -0.212423827147\n",
        "[-0.18515524 -0.23876616 -0.23113055 -0.28011673 -0.23701663] -0.23443706306\n",
        "[-0.16677748 -0.0508169  -0.24962271 -0.21040449 -0.1334121 ] -0.162206736454\n",
        "[-0.20798078 -0.15793673 -0.24567702 -0.17806898 -0.25706447] -0.209345595068\n",
        "[-0.21776003 -0.23577652 -0.18964855 -0.21694571 -0.16322964] -0.204672092675\n",
        "[-0.08440306 -0.22887854 -0.2278056  -0.18374187 -0.27115099] -0.199196013533\n",
        "[-0.25295452 -0.2059144  -0.24661573 -0.23905323 -0.24614014] -0.238135603791\n",
        "[-0.23379393 -0.19422227 -0.17641279 -0.20114918 -0.20797067] -0.202709769619\n",
        "[-0.20171404 -0.24773761 -0.29340826 -0.16084569 -0.17398648] -0.2155384157\n",
        "[-0.21490511 -0.29072904 -0.29955735 -0.28253657 -0.21691516] -0.26092864733\n",
        "[-0.19248832 -0.19244408 -0.12812672 -0.18804559 -0.29258471] -0.198737882777\n",
        "[-0.16929602 -0.16663377 -0.18074416 -0.15472962 -0.21632633] -0.177545979905\n",
        "[-0.17507764 -0.16745298 -0.16569589 -0.24133365 -0.28241038] -0.206394109251\n",
        "[-0.19967042 -0.21806239 -0.1457734  -0.18822041 -0.08717806] -0.167780937093\n",
        "[-0.22105377 -0.17320171 -0.24510307 -0.23937641 -0.12068652] -0.199884294349\n",
        "[-0.26934542 -0.13566406 -0.20475819 -0.16204566 -0.15279942] -0.18492254981\n",
        "[-0.21349046 -0.17012827 -0.19182424 -0.19726727 -0.2587629 ] -0.206294627775\n",
        "[-0.18676887 -0.22753999 -0.14483983 -0.17057523 -0.259461  ] -0.197836984257\n",
        "[-0.24990721 -0.06526216 -0.24237938 -0.21543851 -0.23803203] -0.202203856384\n",
        "[-0.17869306 -0.232299   -0.27658537 -0.26862127 -0.12684328] -0.216608395954\n",
        "[-0.18475629 -0.16997694 -0.17664816 -0.2451319  -0.22265067] -0.199832790111\n",
        "[-0.26361545 -0.26540831 -0.22468173 -0.24540977 -0.25537988] -0.250899028398\n",
        "[-0.15338709 -0.22947688 -0.19113695 -0.24579006 -0.15196514] -0.19435122461\n",
        "[-0.18526158 -0.23588858 -0.17620636 -0.17032192 -0.24110304] -0.201756294632\n",
        "[-0.21622664 -0.25541538 -0.1330808  -0.20877474 -0.14016266] -0.190732043387\n",
        "[-0.15566739 -0.12243252 -0.19855632 -0.18207026 -0.30338282] -0.19242186346\n",
        "[-0.37193779 -0.40104223 -0.26307776 -0.21643793 -0.20954796] -0.292408731891\n",
        "[-0.47081749 -0.61970243 -0.49539598 -0.19574091 -0.67110156] -0.490551673951\n"
       ]
      }
     ],
     "prompt_number": 20
    },
    {
     "cell_type": "code",
     "collapsed": false,
     "input": [
      "check=0\n",
      "right=0\n",
      "subopt=0\n",
      "good=0\n",
      "for i in range(len(random_data)):\n",
      "    print theory_data[i], kids_data[i], random_data[i]\n",
      "    if theory_data[i] <= kids_data[i] <= random_data[i]:\n",
      "        right+=1\n",
      "    if theory_data[i] <= random_data[i]:\n",
      "        check+=1\n",
      "    if theory_data[i] <= kids_data[i]:\n",
      "        subopt+=1\n",
      "    if kids_data[i] <= random_data[i]:\n",
      "        good+=1\n",
      "        \n",
      "print check, right, subopt, good\n"
     ],
     "language": "python",
     "metadata": {},
     "outputs": [
      {
       "output_type": "stream",
       "stream": "stdout",
       "text": [
        "-0.42383072636 -0.0508736365676 -0.301454289125\n",
        "-0.338312016549 -0.209585386983 -0.212423827147\n",
        "-0.329817309671 -0.197592420766 -0.23443706306\n",
        "-0.338312016549 -0.171750858501 -0.162206736454\n",
        "-0.329817309671 -0.192112364666 -0.209345595068\n",
        "-0.329817309671 -0.11564956973 -0.204672092675\n",
        "-0.329817309671 -0.0617626734331 -0.199196013533\n",
        "-0.338312016549 -0.139990449343 -0.238135603791\n",
        "-0.329817309671 -0.117073093199 -0.202709769619\n",
        "-0.338312016549 -0.0876453955224 -0.2155384157\n",
        "-0.366464589187 -0.151103898484 -0.26092864733\n",
        "-0.329817309671 -0.141897589266 -0.198737882777\n",
        "-0.338312016549 -0.146449040432 -0.177545979905\n",
        "-0.329817309671 -0.117563362257 -0.206394109251\n",
        "-0.329817309671 -0.217614933579 -0.167780937093\n",
        "-0.338312016549 -0.154567665443 -0.199884294349\n",
        "-0.338312016549 -0.275800974266 -0.18492254981\n",
        "-0.329817309671 -0.181319071979 -0.206294627775\n",
        "-0.338312016549 -0.151397096257 -0.197836984257\n",
        "-0.329817309671 -0.23491055473 -0.202203856384\n",
        "-0.329817309671 -0.115347864972 -0.216608395954\n",
        "-0.329817309671 -0.0674102609153 -0.199832790111\n",
        "-0.338312016549 -0.154638003308 -0.250899028398\n",
        "-0.338312016549 -0.204340307641 -0.19435122461\n",
        "-0.338312016549 -0.115130764545 -0.201756294632\n",
        "-0.329817309671 -0.110037254985 -0.190732043387\n",
        "-0.329817309671 -0.150475800114 -0.19242186346\n",
        "-0.508668336749 -0.377334782362 -0.292408731891\n",
        "-0.61320288631 -0.671101564198 -0.490551673951\n",
        "29 6 28 7\n"
       ]
      }
     ],
     "prompt_number": 25
    },
    {
     "cell_type": "code",
     "collapsed": false,
     "input": [
      "print np.mean(kids_data),np.mean(random_data),np.mean(theory_data)"
     ],
     "language": "python",
     "metadata": {},
     "outputs": [
      {
       "output_type": "stream",
       "stream": "stdout",
       "text": [
        "-0.175257815119 -0.221110735224 -0.353484174346\n"
       ]
      }
     ],
     "prompt_number": 28
    },
    {
     "cell_type": "code",
     "collapsed": false,
     "input": [
      "cd '/Users/alejo/Neuro/ActiveLearning/Code/active-learning/'\n",
      "import Data\n",
      "d=Data.Data()\n",
      "d.read(astext=False)\n",
      "d.get_kids()"
     ],
     "language": "python",
     "metadata": {},
     "outputs": [
      {
       "ename": "SyntaxError",
       "evalue": "invalid syntax (<ipython-input-6-695cc2fad3fd>, line 1)",
       "output_type": "pyerr",
       "traceback": [
        "\u001b[0;36m  File \u001b[0;32m\"<ipython-input-6-695cc2fad3fd>\"\u001b[0;36m, line \u001b[0;32m1\u001b[0m\n\u001b[0;31m    cd '/Users/alejo/Neuro/ActiveLearning/Code/active-learning/'\u001b[0m\n\u001b[0m                                                               ^\u001b[0m\n\u001b[0;31mSyntaxError\u001b[0m\u001b[0;31m:\u001b[0m invalid syntax\n"
       ]
      }
     ],
     "prompt_number": 6
    },
    {
     "cell_type": "code",
     "collapsed": false,
     "input": [
      "cd '/Users/alejo/Neuro/ActiveLearning/Code/active-learning/'\n"
     ],
     "language": "python",
     "metadata": {},
     "outputs": [
      {
       "output_type": "stream",
       "stream": "stdout",
       "text": [
        "/Users/alejo/Neuro/ActiveLearning/Code/active-learning\n"
       ]
      }
     ],
     "prompt_number": 2
    },
    {
     "cell_type": "code",
     "collapsed": false,
     "input": [
      "import Data\n",
      "d=Data.Data()\n",
      "d.read(astext=False)\n",
      "d.get_kids()"
     ],
     "language": "python",
     "metadata": {},
     "outputs": [
      {
       "metadata": {},
       "output_type": "pyout",
       "prompt_number": 7,
       "text": [
        "['CPF76ZM.opf',\n",
        " 'CPF90SP.opf',\n",
        " 'CPF94HJ.opf',\n",
        " 'CPF122NJ.opf',\n",
        " 'CPF99JG.opf',\n",
        " 'CPF102PP.opf',\n",
        " 'CPF85TM.opf',\n",
        " 'CPF86GW.opf',\n",
        " 'CPF73JJ.opf',\n",
        " 'CPF98EB.opf',\n",
        " 'CPF113EB.opf',\n",
        " 'CPF119AO.opf',\n",
        " 'CPF88LB.opf',\n",
        " 'CPF123LJ.opf',\n",
        " 'CPF75RL.opf',\n",
        " 'CPF72GS.opf',\n",
        " 'CPF93MM.opf',\n",
        " 'CPF115EI.opf',\n",
        " 'CPF81GB.opf',\n",
        " 'CPF89CH.opf',\n",
        " 'CPF92CP.opf',\n",
        " 'CPF79AT.opf',\n",
        " 'CPF104RB.opf',\n",
        " 'CPF84SK.opf',\n",
        " 'CPF103LC.opf',\n",
        " 'CPF105NK.opf',\n",
        " 'CPF82SF.opf',\n",
        " 'CPF125AS.opf',\n",
        " 'CPF96VW.opf']"
       ]
      }
     ],
     "prompt_number": 7
    },
    {
     "cell_type": "code",
     "collapsed": false,
     "input": [
      "for i,kid in enumerate(d.get_kids()):\n",
      "    print kid, d.get_kid_nactions(kid),theory_data[i]>kids_data[i], -kids_data[i]+random_data[i]"
     ],
     "language": "python",
     "metadata": {},
     "outputs": [
      {
       "output_type": "stream",
       "stream": "stdout",
       "text": [
        "CPF76ZM.opf 8 False -0.250580652558\n",
        "CPF90SP.opf 11 False -0.00283844016412\n",
        "CPF94HJ.opf 16 False -0.0368446422945\n",
        "CPF122NJ.opf 37 False 0.0095441220471\n",
        "CPF99JG.opf 19 False -0.0172332304021\n",
        "CPF102PP.opf 12 False -0.0890225229456\n",
        "CPF85TM.opf 14 False -0.137433340099\n",
        "CPF86GW.opf 10 False -0.0981451544477\n",
        "CPF73JJ.opf 11 False -0.0856366764197\n",
        "CPF98EB.opf 25 False -0.127893020178\n",
        "CPF113EB.opf 9 False -0.109824748846\n",
        "CPF119AO.opf 15 False -0.056840293511\n",
        "CPF88LB.opf 21 False -0.0310969394738\n",
        "CPF123LJ.opf 11 False -0.0888307469937\n",
        "CPF75RL.opf 11 False 0.0498339964859\n",
        "CPF72GS.opf 12 False -0.0453166289067\n",
        "CPF93MM.opf 14 False 0.0908784244554\n",
        "CPF115EI.opf 58 False -0.0249755557966\n",
        "CPF81GB.opf 25 False -0.0464398879997\n",
        "CPF89CH.opf 42 False 0.0327066983462\n",
        "CPF92CP.opf 54 False -0.101260530982\n",
        "CPF79AT.opf 22 False -0.132422529196\n",
        "CPF104RB.opf 21 False -0.0962610250902\n",
        "CPF84SK.opf 85 False 0.00998908303055\n",
        "CPF103LC.opf 12 False -0.0866255300862\n",
        "CPF105NK.opf 24 False -0.0806947884022\n",
        "CPF82SF.opf 15 False -0.0419460633462\n",
        "CPF125AS.opf 6 False 0.0849260504708\n",
        "CPF96VW.opf 3 True 0.180549890246\n"
       ]
      }
     ],
     "prompt_number": 50
    },
    {
     "cell_type": "code",
     "collapsed": false,
     "input": [
      "weirdkid='CPF96VW.opf'\n",
      "for dp in d.data[weirdkid]:\n",
      "    dp.display()"
     ],
     "language": "python",
     "metadata": {},
     "outputs": [
      {
       "output_type": "stream",
       "stream": "stdout",
       "text": [
        "toy: (0, 0), machine: (0, 2), active: True\n",
        "toy: (1, 2), machine: (0, 2), active: False\n",
        "toy: (2, 1), machine: (0, 2), active: False\n"
       ]
      }
     ],
     "prompt_number": 45
    },
    {
     "cell_type": "code",
     "collapsed": false,
     "input": [
      "d.filename\n"
     ],
     "language": "python",
     "metadata": {},
     "outputs": [
      {
       "metadata": {},
       "output_type": "pyout",
       "prompt_number": 46,
       "text": [
        "'/Users/alejo/Neuro/ActiveLearning/Data/CPF2_Transcribed110414-3CSV.csv'"
       ]
      }
     ],
     "prompt_number": 46
    },
    {
     "cell_type": "code",
     "collapsed": false,
     "input": [
      "import entropy_gains\n",
      "entropy_gains.ave_theory_expected_entropy_gain(d.data[weirdkid])"
     ],
     "language": "python",
     "metadata": {},
     "outputs": [
      {
       "metadata": {},
       "output_type": "pyout",
       "prompt_number": 51,
       "text": [
        "(-0.67110156419752942,\n",
        " [-0.59872175732927879, -0.83139342564630836, -0.58318950961700144])"
       ]
      }
     ],
     "prompt_number": 51
    },
    {
     "cell_type": "code",
     "collapsed": false,
     "input": [
      "import learners\n",
      "tl=learners.TheoryLearner()\n",
      "tl.play(3)"
     ],
     "language": "python",
     "metadata": {},
     "outputs": [
      {
       "metadata": {},
       "output_type": "pyout",
       "prompt_number": 52,
       "text": [
        "[<Datapoint.Datapoint instance at 0x1135ca050>,\n",
        " <Datapoint.Datapoint instance at 0x1135ca710>,\n",
        " <Datapoint.Datapoint instance at 0x1135ca680>]"
       ]
      }
     ],
     "prompt_number": 52
    },
    {
     "cell_type": "code",
     "collapsed": false,
     "input": [
      "for dp in tl.experience:\n",
      "    dp.display()"
     ],
     "language": "python",
     "metadata": {},
     "outputs": [
      {
       "output_type": "stream",
       "stream": "stdout",
       "text": [
        "toy: (2, 1), machine: (1, 1), active: False\n",
        "toy: (2, 1), machine: (2, 0), active: True\n",
        "toy: (0, 0), machine: (2, 0), active: False\n"
       ]
      }
     ],
     "prompt_number": 53
    },
    {
     "cell_type": "code",
     "collapsed": false,
     "input": [
      "entropy_gains.ave_theory_expected_entropy_gain(tl.experience)"
     ],
     "language": "python",
     "metadata": {},
     "outputs": [
      {
       "metadata": {},
       "output_type": "pyout",
       "prompt_number": 54,
       "text": [
        "(-0.61320288630959863,\n",
        " [-0.59872175732927879, -0.49956392689338247, -0.74132297470613451])"
       ]
      }
     ],
     "prompt_number": 54
    },
    {
     "cell_type": "code",
     "collapsed": false,
     "input": [
      "[dp.display() for dp in tl.experience[:1]]\n",
      "print ((2,1),(2,0)),entropy_gains.theory_expected_entropy_gain(((2,1),(2,0)), tl.experience[:1])\n",
      "print entropy_gains.theory_expected_entropy_gain(((0,0),(1,1)), tl.experience[:1])\n",
      "print entropy_gains.theory_expected_entropy_gain(((1,2),(1,1)), tl.experience[:1])\n",
      "[dp.display() for dp in d.data[weirdkid][:1]]\n",
      "print ((1,2),(0,2)), entropy_gains.theory_expected_entropy_gain(((1,2),(0,2)), d.data[weirdkid][:1])\n",
      "\n",
      "#now if I change the model's experience..\n",
      "print 'first success..'\n",
      "tl.experience[0].active=True\n",
      "[dp.display() for dp in tl.experience[:1]]\n",
      "print ((2,1),(2,0)),entropy_gains.theory_expected_entropy_gain(((2,1),(2,0)), tl.experience[:1])\n",
      "print entropy_gains.theory_expected_entropy_gain(((0,0),(1,1)), tl.experience[:1])\n",
      "print ((1,2),(1,1)), entropy_gains.theory_expected_entropy_gain(((1,2),(1,1)), tl.experience[:1])\n",
      "\n"
     ],
     "language": "python",
     "metadata": {},
     "outputs": [
      {
       "output_type": "stream",
       "stream": "stdout",
       "text": [
        "toy: (2, 1), machine: (1, 1), active: True\n",
        "((2, 1), (2, 0)) "
       ]
      },
      {
       "output_type": "stream",
       "stream": "stdout",
       "text": [
        "-0.710959987358\n",
        "-0.745438462596"
       ]
      },
      {
       "output_type": "stream",
       "stream": "stdout",
       "text": [
        "\n",
        "-0.831393425646"
       ]
      },
      {
       "output_type": "stream",
       "stream": "stdout",
       "text": [
        "\n",
        "toy: (0, 0), machine: (0, 2), active: True\n",
        "((1, 2), (0, 2)) "
       ]
      },
      {
       "output_type": "stream",
       "stream": "stdout",
       "text": [
        "-0.831393425646\n",
        "first success..\n",
        "toy: (2, 1), machine: (1, 1), active: True\n",
        "((2, 1), (2, 0)) "
       ]
      },
      {
       "output_type": "stream",
       "stream": "stdout",
       "text": [
        "-0.710959987358\n",
        "-0.745438462596"
       ]
      },
      {
       "output_type": "stream",
       "stream": "stdout",
       "text": [
        "\n",
        "((1, 2), (1, 1)) "
       ]
      },
      {
       "output_type": "stream",
       "stream": "stdout",
       "text": [
        "-0.831393425646\n"
       ]
      }
     ],
     "prompt_number": 66
    },
    {
     "cell_type": "code",
     "collapsed": false,
     "input": [
      "\n",
      "filename_theory='out-theory-10_tru-10_real.txt'\n",
      "filename_random='out-random-10_tru-60_real.txt'\n",
      "filename_kids='out-kids-10_tru-1_real.txt'\n",
      "theory_data=np.loadtxt(data_directory+filename_theory)\n",
      "random_data=np.loadtxt(data_directory+filename_random)\n",
      "kids_data=np.loadtxt(data_directory+filename_kids)\n",
      "\n",
      "filename_theory='all-theory-10_tru-10_real.txt'\n",
      "filename_random='all-random-10_tru-60_real.txt'\n",
      "all_theory_data=np.loadtxt(data_directory+filename_theory)\n",
      "all_random_data=np.loadtxt(data_directory+filename_random)"
     ],
     "language": "python",
     "metadata": {},
     "outputs": [],
     "prompt_number": 68
    },
    {
     "cell_type": "code",
     "collapsed": false,
     "input": [
      "for row in all_random_data:\n",
      "    print np.mean(row), np.std(row)"
     ],
     "language": "python",
     "metadata": {},
     "outputs": [
      {
       "output_type": "stream",
       "stream": "stdout",
       "text": [
        "-0.246560398294 0.071833267024\n",
        "-0.189031525545 0.0505142076955\n",
        "-0.183354195109 0.0619229128716\n",
        "-0.18581255816 0.0460794185543\n",
        "-0.186828527639 0.0557434382272\n",
        "-0.192296439519 0.0381418161154\n",
        "-0.182331086682 0.05623888308\n",
        "-0.183135964605 0.0593940729616\n",
        "-0.200459126266 0.0516385424941\n",
        "-0.194641622819 0.0548369195263\n",
        "-0.223229985663 0.0582250950648\n",
        "-0.198936840446 0.0492607135154\n",
        "-0.199416007805 0.058572938931\n",
        "-0.190253945709 0.0530410020994\n",
        "-0.183571891926 0.0534723242055\n",
        "-0.212300922919 0.0473462725364\n",
        "-0.194888665346 0.0540629264591\n",
        "-0.187674053849 0.0502563081945\n",
        "-0.180709948123 0.0516481776044\n",
        "-0.18761903691 0.0508124658112\n",
        "-0.192184846132 0.0426251042596\n",
        "-0.194079880866 0.046254927377\n",
        "-0.198362567802 0.047244577645\n",
        "-0.197902545467 0.0449742550293\n",
        "-0.186825958783 0.0475061909685\n",
        "-0.194104571151 0.0494770518925\n",
        "-0.186740365952 0.0463652393597\n",
        "-0.317982729513 0.092790262531\n",
        "-0.396737023586 0.147123220066\n"
       ]
      }
     ],
     "prompt_number": 71
    },
    {
     "cell_type": "code",
     "collapsed": false,
     "input": [
      "check=0\n",
      "right=0\n",
      "subopt=0\n",
      "good=0\n",
      "for i in range(len(random_data)):\n",
      "    print theory_data[i], kids_data[i], random_data[i]\n",
      "    if theory_data[i] <= kids_data[i] <= random_data[i]:\n",
      "        right+=1\n",
      "    if theory_data[i] <= random_data[i]:\n",
      "        check+=1\n",
      "    if theory_data[i] <= kids_data[i]:\n",
      "        subopt+=1\n",
      "    if kids_data[i] <= random_data[i]:\n",
      "        good+=1\n",
      "        \n",
      "print check, right, subopt, good\n",
      "\n"
     ],
     "language": "python",
     "metadata": {},
     "outputs": [
      {
       "output_type": "stream",
       "stream": "stdout",
       "text": [
        "-0.417600730952 -0.0508736365676 -0.246560398294\n",
        "-0.333626136587 -0.209585386983 -0.189031525545\n",
        "-0.331853218645 -0.197592420766 -0.183354195109\n",
        "-0.332739677616 -0.171750858501 -0.18581255816\n",
        "-0.334512595559 -0.192112364666 -0.186828527639\n",
        "-0.332739677616 -0.11564956973 -0.192296439519\n",
        "-0.333626136587 -0.0617626734331 -0.182331086682\n",
        "-0.333626136587 -0.139990449343 -0.183135964605\n",
        "-0.333626136587 -0.117073093199 -0.200459126266\n",
        "-0.336285513501 -0.0876453955224 -0.194641622819\n",
        "-0.371681191993 -0.151103898484 -0.223229985663\n",
        "-0.330966759674 -0.141897589266 -0.198936840446\n",
        "-0.334512595559 -0.146449040432 -0.199416007805\n",
        "-0.33539905453 -0.117563362257 -0.190253945709\n",
        "-0.333626136587 -0.217614933579 -0.183571891926\n",
        "-0.333626136587 -0.154567665443 -0.212300922919\n",
        "-0.331853218645 -0.275800974266 -0.194888665346\n",
        "-0.333626136587 -0.181319071979 -0.187674053849\n",
        "-0.332739677616 -0.151397096257 -0.180709948123\n",
        "-0.333626136587 -0.23491055473 -0.18761903691\n",
        "-0.336285513501 -0.115347864972 -0.192184846132\n",
        "-0.334512595559 -0.0674102609153 -0.194079880866\n",
        "-0.331853218645 -0.154638003308 -0.198362567802\n",
        "-0.333626136587 -0.204340307641 -0.197902545467\n",
        "-0.336285513501 -0.115130764545 -0.186825958783\n",
        "-0.331853218645 -0.110037254985 -0.194104571151\n",
        "-0.334512595559 -0.150475800114 -0.186740365952\n",
        "-0.515289939187 -0.377334782362 -0.317982729513\n",
        "-0.652019524392 -0.671101564198 -0.396737023586\n",
        "29 8 28 9\n"
       ]
      }
     ],
     "prompt_number": 72
    },
    {
     "cell_type": "code",
     "collapsed": false,
     "input": [
      "plt.hist(all_random_data.flatten())\n",
      "plt.hist(kids_data)\n",
      "plt.show()"
     ],
     "language": "python",
     "metadata": {},
     "outputs": [],
     "prompt_number": 78
    },
    {
     "cell_type": "code",
     "collapsed": false,
     "input": [
      "data"
     ],
     "language": "python",
     "metadata": {},
     "outputs": [
      {
       "ename": "NameError",
       "evalue": "name 'data' is not defined",
       "output_type": "pyerr",
       "traceback": [
        "\u001b[0;31m---------------------------------------------------------------------------\u001b[0m\n\u001b[0;31mNameError\u001b[0m                                 Traceback (most recent call last)",
        "\u001b[0;32m<ipython-input-79-6137cde4893c>\u001b[0m in \u001b[0;36m<module>\u001b[0;34m()\u001b[0m\n\u001b[0;32m----> 1\u001b[0;31m \u001b[0mdata\u001b[0m\u001b[0;34m\u001b[0m\u001b[0m\n\u001b[0m",
        "\u001b[0;31mNameError\u001b[0m: name 'data' is not defined"
       ]
      }
     ],
     "prompt_number": 79
    },
    {
     "cell_type": "code",
     "collapsed": false,
     "input": [
      "d"
     ],
     "language": "python",
     "metadata": {},
     "outputs": [
      {
       "metadata": {},
       "output_type": "pyout",
       "prompt_number": 80,
       "text": [
        "<Data.Data instance at 0x10e325cf8>"
       ]
      }
     ],
     "prompt_number": 80
    },
    {
     "cell_type": "code",
     "collapsed": false,
     "input": [
      "import learners\n",
      "tl=learners.TheoryLearner()"
     ],
     "language": "python",
     "metadata": {},
     "outputs": [],
     "prompt_number": 4
    },
    {
     "cell_type": "code",
     "collapsed": false,
     "input": [
      "kid=d.get_kids()[4]\n",
      "tru=4\n",
      "kidseq=d.data[kid][:tru]"
     ],
     "language": "python",
     "metadata": {},
     "outputs": [],
     "prompt_number": 39
    },
    {
     "cell_type": "code",
     "collapsed": false,
     "input": [
      "[dp.display() for dp in kidseq]"
     ],
     "language": "python",
     "metadata": {},
     "outputs": [
      {
       "output_type": "stream",
       "stream": "stdout",
       "text": [
        "toy: (0, 0), machine: (1, 1), active: False\n"
       ]
      },
      {
       "metadata": {},
       "output_type": "pyout",
       "prompt_number": 12,
       "text": [
        "[None]"
       ]
      }
     ],
     "prompt_number": 12
    },
    {
     "cell_type": "code",
     "collapsed": false,
     "input": [
      "[dp.display() for dp in kidseq[:-1]]\n",
      "[dp.display() for dp in kidseq[:tru]]"
     ],
     "language": "python",
     "metadata": {},
     "outputs": [
      {
       "output_type": "stream",
       "stream": "stdout",
       "text": [
        "toy: (0, 0), machine: (1, 1), active: False\n"
       ]
      },
      {
       "metadata": {},
       "output_type": "pyout",
       "prompt_number": 15,
       "text": [
        "[None]"
       ]
      }
     ],
     "prompt_number": 15
    },
    {
     "cell_type": "code",
     "collapsed": false,
     "input": [
      "yokedseq=kidseq[:-1]+[Datapoint.Datapoint(tl.choose_action(kidseq[:tru]), False)]"
     ],
     "language": "python",
     "metadata": {},
     "outputs": [],
     "prompt_number": 26
    },
    {
     "cell_type": "code",
     "collapsed": false,
     "input": [
      "import Datapoint"
     ],
     "language": "python",
     "metadata": {},
     "outputs": [],
     "prompt_number": 17
    },
    {
     "cell_type": "code",
     "collapsed": false,
     "input": [
      "kid=d.get_kids()[4]\n",
      "tru=1\n",
      "kidseq=d.data[kid][:tru]\n",
      "print 'kids. \\n', [dp.display() for dp in kidseq]\n",
      "print '\\n:-1.. \\n', [dp.display() for dp in kidseq[:-1]]\n",
      "#yokedseq=kidseq[:-1]+[Datapoint.Datapoint(tl.choose_action(kidseq[:-1]), False)]\n",
      "\n",
      "yokedseq=kidseq[:-1]+[Datapoint.Datapoint(tl.choose_action(kidseq[:tru]), False)]\n",
      "print '\\nyoked.. \\n', [dp.display() for dp in yokedseq]\n"
     ],
     "language": "python",
     "metadata": {},
     "outputs": [
      {
       "output_type": "stream",
       "stream": "stdout",
       "text": [
        "kids. \n",
        "toy: (0, 0), machine: (1, 1), active: False\n",
        "[None]\n",
        "\n",
        ":-1.. \n",
        "[]\n",
        "\n",
        "yoked.. \n"
       ]
      },
      {
       "output_type": "stream",
       "stream": "stdout",
       "text": [
        "toy: (2, 1), machine: (1, 1), active: False\n",
        "[None]\n"
       ]
      }
     ],
     "prompt_number": 46
    },
    {
     "cell_type": "code",
     "collapsed": false,
     "input": [
      "rl=learners.RandomLearner()\n",
      "rseq=rl.play(tru)"
     ],
     "language": "python",
     "metadata": {},
     "outputs": [],
     "prompt_number": 47
    },
    {
     "cell_type": "code",
     "collapsed": false,
     "input": [
      "rseq[0].display()"
     ],
     "language": "python",
     "metadata": {},
     "outputs": [
      {
       "output_type": "stream",
       "stream": "stdout",
       "text": [
        "toy: (2, 1), machine: (2, 0), active: True\n"
       ]
      }
     ],
     "prompt_number": 49
    },
    {
     "cell_type": "code",
     "collapsed": false,
     "input": [
      "import numpy as np\n",
      "data_directory='/Users/alejo/Neuro/ActiveLearning/Output/'\n",
      "\n",
      "fullfilename='full-kids-1_tru-1_treal-1_rreal.txt'\n",
      "\n",
      "fulldata=np.loadtxt(data_directory+fullfilename)"
     ],
     "language": "python",
     "metadata": {},
     "outputs": [],
     "prompt_number": 53
    },
    {
     "cell_type": "code",
     "collapsed": false,
     "input": [
      "fulldata"
     ],
     "language": "python",
     "metadata": {},
     "outputs": [
      {
       "metadata": {},
       "output_type": "pyout",
       "prompt_number": 54,
       "text": [
        "array([[ 0.       ,  0.       ],\n",
        "       [ 0.       ,  0.       ],\n",
        "       [ 0.       ,  0.       ],\n",
        "       [ 0.       ,  0.2121604],\n",
        "       [ 0.2121604,  0.       ],\n",
        "       [ 0.       ,  0.2121604],\n",
        "       [ 0.       ,  0.       ],\n",
        "       [ 0.       ,  0.       ],\n",
        "       [ 0.       ,  0.       ],\n",
        "       [ 0.       ,  0.       ],\n",
        "       [ 0.       ,  0.2121604],\n",
        "       [ 0.       ,  0.       ],\n",
        "       [ 0.       ,  0.       ],\n",
        "       [ 0.       ,  0.       ],\n",
        "       [ 0.       ,  0.       ],\n",
        "       [ 0.2121604,  0.       ],\n",
        "       [ 0.       ,  0.       ],\n",
        "       [ 0.       ,  0.       ],\n",
        "       [ 0.       ,  0.       ],\n",
        "       [ 0.       ,  0.       ],\n",
        "       [ 0.       ,  0.       ],\n",
        "       [ 0.       ,  0.2121604],\n",
        "       [ 0.       ,  0.       ],\n",
        "       [ 0.       ,  0.2121604],\n",
        "       [ 0.       ,  0.       ],\n",
        "       [ 0.       ,  0.2121604],\n",
        "       [ 0.       ,  0.       ],\n",
        "       [ 0.       ,  0.       ],\n",
        "       [ 0.       ,  0.       ]])"
       ]
      }
     ],
     "prompt_number": 54
    },
    {
     "cell_type": "code",
     "collapsed": false,
     "input": [
      "import entropy_gains"
     ],
     "language": "python",
     "metadata": {},
     "outputs": [],
     "prompt_number": 55
    },
    {
     "cell_type": "code",
     "collapsed": false,
     "input": [
      "import world\n",
      "for machine in world.machines:\n",
      "    for toy in world.available_toys:\n",
      "        for result in [True, False]:\n",
      "            print toy, machine, result\n",
      "            print entropy_gains.ave_theory_expected_entropy_gain([Datapoint.Datapoint((toy, machine),result)])\n"
     ],
     "language": "python",
     "metadata": {},
     "outputs": [
      {
       "output_type": "stream",
       "stream": "stdout",
       "text": [
        "(2, 1) (2, 0) True\n",
        "(-0.59872175732927879, [-0.59872175732927879])"
       ]
      },
      {
       "output_type": "stream",
       "stream": "stdout",
       "text": [
        "\n",
        "(2, 1) (2, 0) False\n",
        "(-0.59872175732927879, [-0.59872175732927879])"
       ]
      },
      {
       "output_type": "stream",
       "stream": "stdout",
       "text": [
        "\n",
        "(0, 0) (2, 0) True\n",
        "(-0.59872175732927879, [-0.59872175732927879])"
       ]
      },
      {
       "output_type": "stream",
       "stream": "stdout",
       "text": [
        "\n",
        "(0, 0) (2, 0) False\n",
        "(-0.59872175732927879, [-0.59872175732927879])"
       ]
      },
      {
       "output_type": "stream",
       "stream": "stdout",
       "text": [
        "\n",
        "(1, 2) (2, 0) True\n",
        "(-0.38656135727031005, [-0.38656135727031005])"
       ]
      },
      {
       "output_type": "stream",
       "stream": "stdout",
       "text": [
        "\n",
        "(1, 2) (2, 0) False\n",
        "(-0.38656135727031005, [-0.38656135727031005])"
       ]
      },
      {
       "output_type": "stream",
       "stream": "stdout",
       "text": [
        "\n",
        "(2, 1) (1, 1) True\n",
        "(-0.59872175732927879, [-0.59872175732927879])"
       ]
      },
      {
       "output_type": "stream",
       "stream": "stdout",
       "text": [
        "\n",
        "(2, 1) (1, 1) False\n",
        "(-0.59872175732927879, [-0.59872175732927879])"
       ]
      },
      {
       "output_type": "stream",
       "stream": "stdout",
       "text": [
        "\n",
        "(0, 0) (1, 1) True\n",
        "(-0.38656135727030994, [-0.38656135727030994])"
       ]
      },
      {
       "output_type": "stream",
       "stream": "stdout",
       "text": [
        "\n",
        "(0, 0) (1, 1) False\n",
        "(-0.38656135727030994, [-0.38656135727030994])"
       ]
      },
      {
       "output_type": "stream",
       "stream": "stdout",
       "text": [
        "\n",
        "(1, 2) (1, 1) True\n",
        "(-0.59872175732927879, [-0.59872175732927879])"
       ]
      },
      {
       "output_type": "stream",
       "stream": "stdout",
       "text": [
        "\n",
        "(1, 2) (1, 1) False\n",
        "(-0.59872175732927879, [-0.59872175732927879])"
       ]
      },
      {
       "output_type": "stream",
       "stream": "stdout",
       "text": [
        "\n",
        "(2, 1) (0, 2) True\n",
        "(-0.38656135727030994, [-0.38656135727030994])"
       ]
      },
      {
       "output_type": "stream",
       "stream": "stdout",
       "text": [
        "\n",
        "(2, 1) (0, 2) False\n",
        "(-0.38656135727030994, [-0.38656135727030994])"
       ]
      },
      {
       "output_type": "stream",
       "stream": "stdout",
       "text": [
        "\n",
        "(0, 0) (0, 2) True\n",
        "(-0.59872175732927879, [-0.59872175732927879])"
       ]
      },
      {
       "output_type": "stream",
       "stream": "stdout",
       "text": [
        "\n",
        "(0, 0) (0, 2) False\n",
        "(-0.59872175732927879, [-0.59872175732927879])"
       ]
      },
      {
       "output_type": "stream",
       "stream": "stdout",
       "text": [
        "\n",
        "(1, 2) (0, 2) True\n",
        "(-0.59872175732927879, [-0.59872175732927879])"
       ]
      },
      {
       "output_type": "stream",
       "stream": "stdout",
       "text": [
        "\n",
        "(1, 2) (0, 2) False\n",
        "(-0.59872175732927879, [-0.59872175732927879])"
       ]
      },
      {
       "output_type": "stream",
       "stream": "stdout",
       "text": [
        "\n"
       ]
      }
     ],
     "prompt_number": 61
    },
    {
     "cell_type": "code",
     "collapsed": false,
     "input": [
      "tru=3\n",
      "filename='141105/full-kids-'+str(tru)+'_tru-1'+'_treal-20'+'_rreal.txt'\n",
      "fulldata=np.loadtxt(data_directory+filename)\n",
      "filename='brenfull-kids-'+str(tru)+'_tru-1'+'_treal-20'+'_rreal.txt'\n",
      "newdata=np.loadtxt(data_directory+filename)"
     ],
     "language": "python",
     "metadata": {},
     "outputs": [],
     "prompt_number": 179
    },
    {
     "cell_type": "code",
     "collapsed": false,
     "input": [
      "for i in range(3):\n",
      "    print '{0:.3f}, {1:.3f}, {2:.3f} ;; {3:.3f}, {4:.3f}, {5:.3f}'.format(fulldata[i,0], fulldata[i,1], fulldata[i,2],\\\n",
      "                                                                        newdata[i,0], newdata[i,1], newdata[i,2])"
     ],
     "language": "python",
     "metadata": {},
     "outputs": [
      {
       "output_type": "stream",
       "stream": "stdout",
       "text": [
        "-0.684, -0.438, -0.506 ;; 1.475, 2.013, 2.007\n",
        "-0.623, -0.507, -0.421 ;; 1.497, 1.847, 2.103\n",
        "-0.611, -0.467, -0.254 ;; 2.000, 2.392, 3.070\n"
       ]
      }
     ],
     "prompt_number": 180
    },
    {
     "cell_type": "code",
     "collapsed": false,
     "input": [
      "for i in range(29):\n",
      "    print '{0:.3f}, {1:.3f} ;; {2:.3f}, {3:.3f} || {4:.6f}'.format(fulldata[i,1]-fulldata[i,0], fulldata[i,2]-fulldata[i,0],\\\n",
      "                                                                         newdata[i,1]-newdata[i,0], newdata[i,2]-newdata[i,0],\\\n",
      "                                                                         (fulldata[i,2]-fulldata[i,0])*tru-(newdata[i,2]-newdata[i,0]))"
     ],
     "language": "python",
     "metadata": {},
     "outputs": [
      {
       "output_type": "stream",
       "stream": "stdout",
       "text": [
        "0.245, 0.177 ;; 0.538, 0.532 || -0.000000\n",
        "0.116, 0.202 ;; 0.350, 0.606 || -0.000000\n",
        "0.144, 0.357 ;; 0.392, 1.070 || 0.000000\n",
        "0.120, 0.000 ;; 0.329, 0.000 || 0.000000\n",
        "0.171, 0.334 ;; 0.408, 1.001 || -0.000000\n",
        "0.135, 0.251 ;; 0.432, 0.753 || -0.000000\n",
        "0.109, 0.110 ;; 0.370, 0.331 || -0.000000\n",
        "0.174, 0.360 ;; 0.320, 1.079 || 0.000000\n",
        "0.112, 0.357 ;; 0.445, 1.070 || -0.000000\n",
        "0.096, 0.360 ;; 0.426, 1.079 || 0.000000\n",
        "0.085, 0.202 ;; 0.291, 0.606 || -0.000000\n",
        "0.046, 0.000 ;; 0.219, 0.000 || 0.000000\n",
        "0.063, 0.067 ;; 0.174, 0.200 || -0.000000\n",
        "0.063, 0.137 ;; 0.543, 1.001 || -0.591055\n",
        "0.078, 0.202 ;; 0.378, 0.410 || 0.196404\n",
        "0.175, 0.225 ;; 0.221, 0.606 || 0.070277\n",
        "0.053, 0.202 ;; 0.381, 0.676 || -0.070277\n",
        "0.044, 0.366 ;; 0.206, 0.606 || 0.490945\n",
        "0.122, 0.202 ;; 0.395, 1.097 || -0.490945\n",
        "0.074, 0.202 ;; 0.407, 0.606 || -0.000000\n",
        "0.132, 0.000 ;; 0.306, 0.606 || -0.606188\n",
        "0.091, 0.202 ;; 0.367, 0.000 || 0.606188\n",
        "0.206, 0.065 ;; 0.233, 0.606 || -0.410484\n",
        "0.062, 0.067 ;; 0.530, 0.196 || 0.004772\n",
        "0.118, 0.000 ;; 0.209, 0.200 || -0.200476\n",
        "0.138, 0.188 ;; 0.349, 0.000 || 0.564817\n",
        "0.169, 0.493 ;; 0.438, 0.565 || 0.914852\n",
        "0.038, 0.067 ;; 0.649, 1.480 || -1.279192\n",
        "0.132, 0.000 ;; 0.217, 0.200 || -0.200476\n"
       ]
      }
     ],
     "prompt_number": 182
    },
    {
     "cell_type": "code",
     "collapsed": false,
     "input": [
      "import matplotlib.pyplot as plt \n",
      "plt.hist(fulldata[:,1]-fulldata[:,0], bins=6, color='blue')\n",
      "plt.hist(fulldata[:,2]-fulldata[:,0], bins=6, bottom=15, color='red')\n",
      "plt.show()"
     ],
     "language": "python",
     "metadata": {},
     "outputs": [],
     "prompt_number": 134
    },
    {
     "cell_type": "code",
     "collapsed": false,
     "input": [],
     "language": "python",
     "metadata": {},
     "outputs": []
    },
    {
     "cell_type": "code",
     "collapsed": false,
     "input": [
      "for row in fulldata:\n",
      "    print '{0:.3f}, {1:.3f}'.format(row[0], row[2])"
     ],
     "language": "python",
     "metadata": {},
     "outputs": [
      {
       "output_type": "stream",
       "stream": "stdout",
       "text": [
        "-0.599, -0.599\n",
        "-0.599, -0.599\n",
        "-0.599, -0.599\n",
        "-0.599, -0.599\n",
        "-0.599, -0.387\n",
        "-0.599, -0.599\n",
        "-0.599, -0.599\n",
        "-0.599, -0.599\n",
        "-0.599, -0.599\n",
        "-0.599, -0.599\n",
        "-0.599, -0.599\n",
        "-0.599, -0.599\n",
        "-0.599, -0.599\n",
        "-0.599, -0.599\n",
        "-0.599, -0.599\n",
        "-0.599, -0.387\n",
        "-0.599, -0.599\n",
        "-0.599, -0.599\n",
        "-0.599, -0.599\n",
        "-0.599, -0.599\n",
        "-0.599, -0.599\n",
        "-0.599, -0.599\n",
        "-0.599, -0.599\n",
        "-0.599, -0.599\n",
        "-0.599, -0.599\n",
        "-0.599, -0.599\n",
        "-0.599, -0.599\n",
        "-0.599, -0.599\n",
        "-0.599, -0.599\n"
       ]
      }
     ],
     "prompt_number": 128
    },
    {
     "cell_type": "code",
     "collapsed": false,
     "input": [
      "truncate=3\n",
      "wseq=d.data[d.get_kids()[3]][:truncate]\n",
      "print entropy_gains.ave_theory_expected_entropy_gain(wseq)\n",
      "[w.display() for w in wseq]\n",
      "\n",
      "tl=learners.TheoryLearner()\n",
      "act=tl.choose_action(wseq[:truncate-1])\n",
      "yoseq=wseq[:-1]+[Datapoint.Datapoint(act, True)]\n",
      "tleg=entropy_gains.ave_theory_expected_entropy_gain(yoseq)\n",
      "\n",
      "[w.display() for w in yoseq]\n",
      "print act\n",
      "print tleg"
     ],
     "language": "python",
     "metadata": {},
     "outputs": [
      {
       "output_type": "stream",
       "stream": "stdout",
       "text": [
        "(-0.67110156419752942, [-0.59872175732927879, -0.83139342564630836, -0.58318950961700122])\n",
        "toy: (0, 0), machine: (2, 0), active: True\n",
        "toy: (2, 1), machine: (2, 0), active: False\n",
        "toy: (1, 2), machine: (2, 0), active: False\n",
        "toy: (0, 0), machine: (2, 0), active: True"
       ]
      },
      {
       "output_type": "stream",
       "stream": "stdout",
       "text": [
        "\n",
        "toy: (2, 1), machine: (2, 0), active: False\n",
        "toy: (1, 2), machine: (2, 0), active: True\n",
        "((1, 2), (2, 0))\n",
        "(-0.67110156419752942, [-0.59872175732927879, -0.83139342564630836, -0.58318950961700122])\n"
       ]
      }
     ],
     "prompt_number": 126
    },
    {
     "cell_type": "code",
     "collapsed": false,
     "input": [
      "tl=learners.TheoryLearner()\n",
      "print tl.choose_action(wseq[:-1])"
     ],
     "language": "python",
     "metadata": {},
     "outputs": [
      {
       "output_type": "stream",
       "stream": "stdout",
       "text": [
        "((2, 1), (2, 0))\n"
       ]
      }
     ],
     "prompt_number": 122
    },
    {
     "cell_type": "code",
     "collapsed": false,
     "input": [
      "wseq[:-1][0].display()"
     ],
     "language": "python",
     "metadata": {},
     "outputs": [
      {
       "output_type": "stream",
       "stream": "stdout",
       "text": [
        "toy: (0, 0), machine: (2, 0), active: True\n"
       ]
      }
     ],
     "prompt_number": 110
    },
    {
     "cell_type": "code",
     "collapsed": false,
     "input": [
      "import world\n",
      "for machine in world.machines:\n",
      "    for toy in world.available_toys:\n",
      "        for result in [True, False]:\n",
      "            print toy, machine, result\n",
      "            yoseq=wseq[:-1]#+[Datapoint.Datapoint((toy, machine),result)]\n",
      "            #print entropy_gains.ave_theory_expected_entropy_gain(yoseq)\n",
      "            print tl.expected_final_entropy((toy,machine),yoseq)\n",
      "            \n",
      "            "
     ],
     "language": "python",
     "metadata": {},
     "outputs": [
      {
       "output_type": "stream",
       "stream": "stdout",
       "text": [
        "(2, 1) (2, 0) True\n",
        "1.92683079755"
       ]
      },
      {
       "output_type": "stream",
       "stream": "stdout",
       "text": [
        "\n",
        "(2, 1) (2, 0) False\n",
        "1.92683079755"
       ]
      },
      {
       "output_type": "stream",
       "stream": "stdout",
       "text": [
        "\n",
        "(0, 0) (2, 0) True\n",
        "3.25808470147"
       ]
      },
      {
       "output_type": "stream",
       "stream": "stdout",
       "text": [
        "\n",
        "(0, 0) (2, 0) False\n",
        "3.25808470147"
       ]
      },
      {
       "output_type": "stream",
       "stream": "stdout",
       "text": [
        "\n",
        "(1, 2) (2, 0) True\n",
        "2.0127857606"
       ]
      },
      {
       "output_type": "stream",
       "stream": "stdout",
       "text": [
        "\n",
        "(1, 2) (2, 0) False\n",
        "2.0127857606"
       ]
      },
      {
       "output_type": "stream",
       "stream": "stdout",
       "text": [
        "\n",
        "(2, 1) (1, 1) True\n",
        "2.32963623641"
       ]
      },
      {
       "output_type": "stream",
       "stream": "stdout",
       "text": [
        "\n",
        "(2, 1) (1, 1) False\n",
        "2.32963623641"
       ]
      },
      {
       "output_type": "stream",
       "stream": "stdout",
       "text": [
        "\n",
        "(0, 0) (1, 1) True\n",
        "2.21519246876"
       ]
      },
      {
       "output_type": "stream",
       "stream": "stdout",
       "text": [
        "\n",
        "(0, 0) (1, 1) False\n",
        "2.21519246876"
       ]
      },
      {
       "output_type": "stream",
       "stream": "stdout",
       "text": [
        "\n",
        "(1, 2) (1, 1) True\n",
        "2.04726423584"
       ]
      },
      {
       "output_type": "stream",
       "stream": "stdout",
       "text": [
        "\n",
        "(1, 2) (1, 1) False\n",
        "2.04726423584"
       ]
      },
      {
       "output_type": "stream",
       "stream": "stdout",
       "text": [
        "\n",
        "(2, 1) (0, 2) True\n",
        "2.21519246876"
       ]
      },
      {
       "output_type": "stream",
       "stream": "stdout",
       "text": [
        "\n",
        "(2, 1) (0, 2) False\n",
        "2.21519246876"
       ]
      },
      {
       "output_type": "stream",
       "stream": "stdout",
       "text": [
        "\n",
        "(0, 0) (0, 2) True\n",
        "2.04726423584"
       ]
      },
      {
       "output_type": "stream",
       "stream": "stdout",
       "text": [
        "\n",
        "(0, 0) (0, 2) False\n",
        "2.04726423584"
       ]
      },
      {
       "output_type": "stream",
       "stream": "stdout",
       "text": [
        "\n",
        "(1, 2) (0, 2) True\n",
        "2.32963623641"
       ]
      },
      {
       "output_type": "stream",
       "stream": "stdout",
       "text": [
        "\n",
        "(1, 2) (0, 2) False\n",
        "2.32963623641"
       ]
      },
      {
       "output_type": "stream",
       "stream": "stdout",
       "text": [
        "\n"
       ]
      }
     ],
     "prompt_number": 119
    },
    {
     "cell_type": "code",
     "collapsed": false,
     "input": [],
     "language": "python",
     "metadata": {},
     "outputs": []
    },
    {
     "cell_type": "code",
     "collapsed": false,
     "input": [
      "model='hypfull'\n",
      "data_directory='/Users/alejo/Neuro/ActiveLearning/Output/'\n",
      "today='141107/'\n",
      "tru=1\n",
      "filename=model+'-'+str(tru)+'_tru-1'+'_treal-20'+'_rreal.txt'\n",
      "fulldata=np.loadtxt(data_directory+today+filename)"
     ],
     "language": "python",
     "metadata": {},
     "outputs": [],
     "prompt_number": 185
    }
   ],
   "metadata": {}
  }
 ]
}